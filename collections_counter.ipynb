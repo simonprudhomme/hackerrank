{
 "cells": [
  {
   "cell_type": "markdown",
   "id": "7d8bf399",
   "metadata": {},
   "source": [
    "# Hackerrank, collections.Counter()\n",
    "ref : https://www.hackerrank.com/challenges/collections-counter/problem?isFullScreen=true"
   ]
  },
  {
   "cell_type": "code",
   "execution_count": 44,
   "id": "bb967c48",
   "metadata": {},
   "outputs": [
    {
     "name": "stdout",
     "output_type": "stream",
     "text": [
      "10\n",
      "2 3 4 5 6 8 7 6 5 18\n",
      "6\n",
      "6 55\n",
      "6 45\n",
      "6 55\n",
      "4 40\n",
      "18 60\n",
      "10 50\n",
      "200\n"
     ]
    }
   ],
   "source": [
    "from collections import Counter\n",
    "\n",
    "n_shoes = int(input())\n",
    "shoe_sizes = Counter(list(map(int,input().split())))\n",
    "n_customers = int(input())\n",
    "\n",
    "sales = 0\n",
    "for customer in range(n_customers):\n",
    "    size, price = list(map(int, input().split()))\n",
    "    if shoe_sizes[size]>=1:\n",
    "        sales += price\n",
    "        shoe_sizes[size] -= 1\n",
    "        \n",
    "print(sales)"
   ]
  }
 ],
 "metadata": {
  "kernelspec": {
   "display_name": "Python 3 (ipykernel)",
   "language": "python",
   "name": "python3"
  },
  "language_info": {
   "codemirror_mode": {
    "name": "ipython",
    "version": 3
   },
   "file_extension": ".py",
   "mimetype": "text/x-python",
   "name": "python",
   "nbconvert_exporter": "python",
   "pygments_lexer": "ipython3",
   "version": "3.8.12"
  }
 },
 "nbformat": 4,
 "nbformat_minor": 5
}
