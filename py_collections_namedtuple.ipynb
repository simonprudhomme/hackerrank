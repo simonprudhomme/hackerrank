{
 "cells": [
  {
   "cell_type": "markdown",
   "id": "436ce51b",
   "metadata": {},
   "source": [
    "# Hackerrank, py-collections-namedtuple\n",
    "ref : https://www.hackerrank.com/challenges/py-collections-namedtuple/problem?isFullScreen=true"
   ]
  },
  {
   "cell_type": "code",
   "execution_count": 2,
   "id": "3bca0b3b",
   "metadata": {},
   "outputs": [],
   "source": [
    "from collections import namedtuple"
   ]
  },
  {
   "cell_type": "code",
   "execution_count": 15,
   "id": "34c988cd",
   "metadata": {},
   "outputs": [
    {
     "name": "stdout",
     "output_type": "stream",
     "text": [
      "5\n",
      "ID         MARKS      NAME       CLASS\n",
      "1          97         Raymond    7\n",
      "1          97         Raymond    7\n",
      "1          97         Raymond    7\n",
      "1          97         Raymond    7\n",
      "1          97         Raymond    7\n"
     ]
    }
   ],
   "source": [
    "n = int(input())\n",
    "Student = namedtuple('Student',','.join(input().split()))\n",
    "marks = 0\n",
    "for i in range(n):\n",
    "    marks += int(Student(*input().split()).MARKS)\n",
    "    \n",
    "print(marks/n)"
   ]
  }
 ],
 "metadata": {
  "kernelspec": {
   "display_name": "Python 3 (ipykernel)",
   "language": "python",
   "name": "python3"
  },
  "language_info": {
   "codemirror_mode": {
    "name": "ipython",
    "version": 3
   },
   "file_extension": ".py",
   "mimetype": "text/x-python",
   "name": "python",
   "nbconvert_exporter": "python",
   "pygments_lexer": "ipython3",
   "version": "3.8.12"
  }
 },
 "nbformat": 4,
 "nbformat_minor": 5
}
