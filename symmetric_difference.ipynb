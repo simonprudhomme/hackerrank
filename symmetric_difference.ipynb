{
 "cells": [
  {
   "cell_type": "markdown",
   "id": "436ce51b",
   "metadata": {},
   "source": [
    "# Hackerrank, symmetric-difference\n",
    "ref : https://www.hackerrank.com/challenges/symmetric-difference/problem?isFullScreen=true"
   ]
  },
  {
   "cell_type": "code",
   "execution_count": 12,
   "id": "3bca0b3b",
   "metadata": {},
   "outputs": [
    {
     "name": "stdout",
     "output_type": "stream",
     "text": [
      "7\n",
      "UK\n",
      "UK\n",
      "China\n",
      "USA\n",
      "France\n",
      "France\n",
      "New Zealand\n",
      "5\n"
     ]
    }
   ],
   "source": [
    "m = int(input())\n",
    "a = set(map(int, input().split()))\n",
    "\n",
    "n = int(input())\n",
    "b = set(map(int, input().split()))\n",
    "\n",
    "\n",
    "results = []\n",
    "for item in a.difference(b):\n",
    "    results.append(item)\n",
    "for item in b.difference(a):\n",
    "    results.append(item)\n",
    "\n",
    "for item in sorted(results):\n",
    "    print(item)"
   ]
  }
 ],
 "metadata": {
  "kernelspec": {
   "display_name": "Python 3 (ipykernel)",
   "language": "python",
   "name": "python3"
  },
  "language_info": {
   "codemirror_mode": {
    "name": "ipython",
    "version": 3
   },
   "file_extension": ".py",
   "mimetype": "text/x-python",
   "name": "python",
   "nbconvert_exporter": "python",
   "pygments_lexer": "ipython3",
   "version": "3.9.2"
  }
 },
 "nbformat": 4,
 "nbformat_minor": 5
}
