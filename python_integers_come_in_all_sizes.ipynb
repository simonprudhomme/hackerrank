{
 "cells": [
  {
   "cell_type": "markdown",
   "id": "436ce51b",
   "metadata": {},
   "source": [
    "# Hackerrank, python-integers-come-in-all-sizes\n",
    "ref : https://www.hackerrank.com/challenges/python-integers-come-in-all-sizes/problem?isFullScreen=true"
   ]
  },
  {
   "cell_type": "code",
   "execution_count": 29,
   "id": "01bb3a04",
   "metadata": {
    "scrolled": true
   },
   "outputs": [
    {
     "name": "stdout",
     "output_type": "stream",
     "text": [
      "9\n",
      "29\n",
      "7\n",
      "27\n",
      "4710194409608608369201743232\n"
     ]
    }
   ],
   "source": [
    "a, b, c, d = int(input()),int(input()),int(input()),int(input())\n",
    "print(a**b + c**d)"
   ]
  }
 ],
 "metadata": {
  "kernelspec": {
   "display_name": "Python 3 (ipykernel)",
   "language": "python",
   "name": "python3"
  },
  "language_info": {
   "codemirror_mode": {
    "name": "ipython",
    "version": 3
   },
   "file_extension": ".py",
   "mimetype": "text/x-python",
   "name": "python",
   "nbconvert_exporter": "python",
   "pygments_lexer": "ipython3",
   "version": "3.7.10"
  }
 },
 "nbformat": 4,
 "nbformat_minor": 5
}
