{
 "cells": [
  {
   "cell_type": "markdown",
   "id": "436ce51b",
   "metadata": {},
   "source": [
    "# Hackerrank, py-collections-ordereddict\n",
    "ref : https://www.hackerrank.com/challenges/py-collections-ordereddict/problem?isFullScreen=true"
   ]
  },
  {
   "cell_type": "code",
   "execution_count": 291,
   "id": "c5f5136c",
   "metadata": {},
   "outputs": [],
   "source": [
    "from collections import OrderedDict\n"
   ]
  },
  {
   "cell_type": "code",
   "execution_count": 299,
   "id": "2710d8c0",
   "metadata": {},
   "outputs": [
    {
     "name": "stdout",
     "output_type": "stream",
     "text": [
      "9\n",
      "BANANA FRIES 12\n",
      "BANANA FRIES 12\n",
      "BANANA FRIES 12\n",
      "BANANA FRIES 12\n",
      "BANANA FRIES 12\n",
      "BANANA FRIES 12\n",
      "BANANA FRIES 12\n",
      "BANANA FRIES 12\n",
      "BANANA FRIES 12\n",
      "BANANA FRIES 108\n"
     ]
    }
   ],
   "source": [
    "ordered_dictionary = OrderedDict()\n",
    "\n",
    "N = int(input())\n",
    "for _ in range(N):\n",
    "    tmp = input()\n",
    "    quantity = tmp.split()[-1]\n",
    "    item = ' '.join(tmp.split()[:-1])\n",
    "    if item in ordered_dictionary:\n",
    "        ordered_dictionary[item] += int(quantity)\n",
    "    else:\n",
    "        ordered_dictionary[item] = int(quantity)\n",
    "        \n",
    "for i, j in ordered_dictionary.items():\n",
    "    print(i,j)"
   ]
  }
 ],
 "metadata": {
  "kernelspec": {
   "display_name": "Python 3 (ipykernel)",
   "language": "python",
   "name": "python3"
  },
  "language_info": {
   "codemirror_mode": {
    "name": "ipython",
    "version": 3
   },
   "file_extension": ".py",
   "mimetype": "text/x-python",
   "name": "python",
   "nbconvert_exporter": "python",
   "pygments_lexer": "ipython3",
   "version": "3.8.12"
  }
 },
 "nbformat": 4,
 "nbformat_minor": 5
}
