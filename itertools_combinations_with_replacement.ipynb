{
 "cells": [
  {
   "cell_type": "markdown",
   "id": "8e124a82",
   "metadata": {},
   "source": [
    "# Hackerrank, itertools.combinations_with_replacement()\n",
    "ref : https://www.hackerrank.com/challenges/itertools-combinations-with-replacement/problem"
   ]
  },
  {
   "cell_type": "code",
   "execution_count": 54,
   "id": "da9ee131",
   "metadata": {},
   "outputs": [],
   "source": [
    "from itertools import combinations_with_replacement"
   ]
  },
  {
   "cell_type": "code",
   "execution_count": 55,
   "id": "d7e194ae",
   "metadata": {},
   "outputs": [
    {
     "name": "stdout",
     "output_type": "stream",
     "text": [
      "HACK 2\n",
      "AA\n",
      "AC\n",
      "AH\n",
      "AK\n",
      "CC\n",
      "CH\n",
      "CK\n",
      "HH\n",
      "HK\n",
      "KK\n"
     ]
    }
   ],
   "source": [
    "tmp = input()\n",
    "word = tmp.split()[0]\n",
    "k = int(tmp.split()[1])\n",
    "\n",
    "for x in sorted([sorted(x) for x in list(combinations_with_replacement(word,k))]):\n",
    "    print(''.join(x))"
   ]
  },
  {
   "cell_type": "code",
   "execution_count": null,
   "id": "521f0eaa",
   "metadata": {},
   "outputs": [],
   "source": []
  }
 ],
 "metadata": {
  "kernelspec": {
   "display_name": "Python 3 (ipykernel)",
   "language": "python",
   "name": "python3"
  },
  "language_info": {
   "codemirror_mode": {
    "name": "ipython",
    "version": 3
   },
   "file_extension": ".py",
   "mimetype": "text/x-python",
   "name": "python",
   "nbconvert_exporter": "python",
   "pygments_lexer": "ipython3",
   "version": "3.8.12"
  }
 },
 "nbformat": 4,
 "nbformat_minor": 5
}
