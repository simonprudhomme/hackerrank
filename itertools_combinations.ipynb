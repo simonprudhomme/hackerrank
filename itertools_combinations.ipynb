{
 "cells": [
  {
   "cell_type": "markdown",
   "id": "156bdc45",
   "metadata": {},
   "source": [
    "# Hackerrank, itertools.combinations()\n",
    "ref : https://www.hackerrank.com/challenges/itertools-combinations"
   ]
  },
  {
   "cell_type": "code",
   "execution_count": 1,
   "id": "bd975ae5",
   "metadata": {},
   "outputs": [],
   "source": [
    "from itertools import combinations"
   ]
  },
  {
   "cell_type": "code",
   "execution_count": 34,
   "id": "5e92a7e1",
   "metadata": {},
   "outputs": [
    {
     "name": "stdout",
     "output_type": "stream",
     "text": [
      "HACK 2\n",
      "A\n",
      "C\n",
      "H\n",
      "K\n",
      "AC\n",
      "AH\n",
      "AK\n",
      "CH\n",
      "CK\n",
      "HK\n"
     ]
    }
   ],
   "source": [
    "tmp = input()\n",
    "word = tmp.split()[0]\n",
    "k = int(tmp.split()[1])\n",
    "for i in range(1,k+1):\n",
    "    for j in sorted([sorted(x) for x in list(combinations(word,i))]):\n",
    "        print(''.join(j))"
   ]
  },
  {
   "cell_type": "code",
   "execution_count": null,
   "id": "98c3a6b1",
   "metadata": {},
   "outputs": [],
   "source": []
  }
 ],
 "metadata": {
  "kernelspec": {
   "display_name": "Python 3 (ipykernel)",
   "language": "python",
   "name": "python3"
  },
  "language_info": {
   "codemirror_mode": {
    "name": "ipython",
    "version": 3
   },
   "file_extension": ".py",
   "mimetype": "text/x-python",
   "name": "python",
   "nbconvert_exporter": "python",
   "pygments_lexer": "ipython3",
   "version": "3.8.12"
  }
 },
 "nbformat": 4,
 "nbformat_minor": 5
}
