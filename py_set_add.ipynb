{
 "cells": [
  {
   "cell_type": "markdown",
   "id": "436ce51b",
   "metadata": {},
   "source": [
    "# Hackerrank, py-set-add\n",
    "ref : https://www.hackerrank.com/challenges/py-set-add/problem?isFullScreen=true"
   ]
  },
  {
   "cell_type": "code",
   "execution_count": 12,
   "id": "3bca0b3b",
   "metadata": {},
   "outputs": [
    {
     "name": "stdout",
     "output_type": "stream",
     "text": [
      "7\n",
      "UK\n",
      "UK\n",
      "China\n",
      "USA\n",
      "France\n",
      "France\n",
      "New Zealand\n",
      "5\n"
     ]
    }
   ],
   "source": [
    "cases = int(input())\n",
    "\n",
    "s = set()\n",
    "for case in range(cases):\n",
    "    word = input()\n",
    "    s.add(word)\n",
    "print(len(s))"
   ]
  }
 ],
 "metadata": {
  "kernelspec": {
   "display_name": "Python 3 (ipykernel)",
   "language": "python",
   "name": "python3"
  },
  "language_info": {
   "codemirror_mode": {
    "name": "ipython",
    "version": 3
   },
   "file_extension": ".py",
   "mimetype": "text/x-python",
   "name": "python",
   "nbconvert_exporter": "python",
   "pygments_lexer": "ipython3",
   "version": "3.9.2"
  }
 },
 "nbformat": 4,
 "nbformat_minor": 5
}
