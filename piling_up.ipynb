{
 "cells": [
  {
   "cell_type": "markdown",
   "id": "436ce51b",
   "metadata": {},
   "source": [
    "# Hackerrank, piling-up\n",
    "ref : https://www.hackerrank.com/challenges/piling-up/problem?isFullScreen=true"
   ]
  },
  {
   "cell_type": "code",
   "execution_count": 311,
   "id": "a23397be",
   "metadata": {},
   "outputs": [
    {
     "name": "stdout",
     "output_type": "stream",
     "text": [
      "[4, 3, 2]\n",
      "[3, 2]\n",
      "[2]\n",
      "[]\n",
      "yes\n"
     ]
    }
   ],
   "source": [
    "for _ in range(int(input())):\n",
    "    __ = input()\n",
    "    cubes = list(map(int,input().split()))\n",
    "    if cubes[0]==cubes[-1]:\n",
    "        fondation = cubes[0]\n",
    "        cubes.pop(0)\n",
    "        print(cubes)\n",
    "    elif cubes[0] < cubes[-1]:\n",
    "        fondation = cubes[-1]\n",
    "        cubes.pop(0)\n",
    "        print(cubes)\n",
    "    elif cubes[0] > cubes[-1]:\n",
    "        fondation = cubes[0]\n",
    "        cubes.pop(-1)\n",
    "        print(cubes)\n",
    "\n",
    "\n",
    "    while len(cubes) > 0:\n",
    "        if cubes[0]==fondation:\n",
    "            cubes.pop(0)\n",
    "            print(cubes)\n",
    "        elif cubes[-1]==fondation:\n",
    "            cubes.pop(-1)\n",
    "            print(cubes)\n",
    "        elif cubes[0]<fondation:\n",
    "            fondation = cubes[0]\n",
    "            cubes.pop(0)\n",
    "            print(cubes)\n",
    "        elif cubes[-1]<fondation:\n",
    "            fondation = cubes[-1]\n",
    "            cubes.pop(-1)\n",
    "            print(cubes)\n",
    "        else:\n",
    "            answer = 'no'\n",
    "            break\n",
    "    print(answer)"
   ]
  },
  {
   "cell_type": "code",
   "execution_count": null,
   "id": "dbd8fbf6",
   "metadata": {},
   "outputs": [],
   "source": []
  }
 ],
 "metadata": {
  "kernelspec": {
   "display_name": "Python 3 (ipykernel)",
   "language": "python",
   "name": "python3"
  },
  "language_info": {
   "codemirror_mode": {
    "name": "ipython",
    "version": 3
   },
   "file_extension": ".py",
   "mimetype": "text/x-python",
   "name": "python",
   "nbconvert_exporter": "python",
   "pygments_lexer": "ipython3",
   "version": "3.7.10"
  }
 },
 "nbformat": 4,
 "nbformat_minor": 5
}
