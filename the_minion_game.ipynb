{
 "cells": [
  {
   "cell_type": "markdown",
   "id": "5e68806c",
   "metadata": {},
   "source": [
    "# Hackerrank, The Minion Game\n",
    "ref : https://www.hackerrank.com/challenges/the-minion-game/problem?isFullScreen=true"
   ]
  },
  {
   "cell_type": "markdown",
   "id": "66899174",
   "metadata": {},
   "source": [
    "Explanation of substring counting.\n",
    "\n",
    "The Number of substrings of \"ANANA\" is the equal to the word's length, here = 5: \n",
    "\n",
    "1. ANANA\n",
    "2. NANA\n",
    "3. ANA\n",
    "4. AN\n",
    "5. A\n"
   ]
  },
  {
   "cell_type": "code",
   "execution_count": 42,
   "id": "2f6a39f7",
   "metadata": {},
   "outputs": [],
   "source": [
    "S = 'BANANA'"
   ]
  },
  {
   "cell_type": "code",
   "execution_count": 62,
   "id": "17f18886",
   "metadata": {},
   "outputs": [],
   "source": [
    "def minion_game(S):\n",
    "    word = S\n",
    "    kevin_score = 0\n",
    "    stuart_score = 0\n",
    "\n",
    "    for n, letter in enumerate(word):\n",
    "        print(n)\n",
    "        if letter in 'AEIOU':\n",
    "            kevin_score += len(word)-n\n",
    "        else:\n",
    "            stuart_score += len(word)-n\n",
    "            \n",
    "    if kevin_score > stuart_score:\n",
    "        return print(f'Kevin {kevin_score}')\n",
    "    if stuart_score > kevin_score:\n",
    "        return print(f'Stuart {stuart_score}')\n",
    "    if stuart_score == kevin_score:\n",
    "        return print(f'Draw')"
   ]
  },
  {
   "cell_type": "code",
   "execution_count": null,
   "id": "eada000a",
   "metadata": {},
   "outputs": [],
   "source": []
  }
 ],
 "metadata": {
  "kernelspec": {
   "display_name": "Python 3 (ipykernel)",
   "language": "python",
   "name": "python3"
  },
  "language_info": {
   "codemirror_mode": {
    "name": "ipython",
    "version": 3
   },
   "file_extension": ".py",
   "mimetype": "text/x-python",
   "name": "python",
   "nbconvert_exporter": "python",
   "pygments_lexer": "ipython3",
   "version": "3.8.12"
  }
 },
 "nbformat": 4,
 "nbformat_minor": 5
}
