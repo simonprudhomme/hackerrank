{
 "cells": [
  {
   "cell_type": "markdown",
   "id": "436ce51b",
   "metadata": {},
   "source": [
    "# Hackerrank, py-collections-deque\n",
    "ref : https://www.hackerrank.com/challenges/py-collections-deque/problem?isFullScreen=true"
   ]
  },
  {
   "cell_type": "code",
   "execution_count": 377,
   "id": "bd89c2c5",
   "metadata": {},
   "outputs": [
    {
     "name": "stdout",
     "output_type": "stream",
     "text": [
      "2\n",
      "append 2\n",
      "append 3\n"
     ]
    }
   ],
   "source": [
    "from collections import deque\n",
    "d = deque()\n",
    "N = int(input())\n",
    "for _ in range(N):\n",
    "    action = input()\n",
    "    if 'popleft' in action:\n",
    "        d.popleft()\n",
    "    elif 'pop' in action:\n",
    "        d.pop()\n",
    "    elif 'appendleft' in action:\n",
    "        action_tmp, num = action.split()\n",
    "        d.appendleft(int(num))\n",
    "    elif 'append' in action:\n",
    "        action_tmp, num = action.split()\n",
    "        d.append(int(num))\n",
    "        \n",
    "print(*d,end=' ')"
   ]
  },
  {
   "cell_type": "code",
   "execution_count": null,
   "id": "d8c09d90",
   "metadata": {},
   "outputs": [],
   "source": []
  }
 ],
 "metadata": {
  "kernelspec": {
   "display_name": "Python 3 (ipykernel)",
   "language": "python",
   "name": "python3"
  },
  "language_info": {
   "codemirror_mode": {
    "name": "ipython",
    "version": 3
   },
   "file_extension": ".py",
   "mimetype": "text/x-python",
   "name": "python",
   "nbconvert_exporter": "python",
   "pygments_lexer": "ipython3",
   "version": "3.8.12"
  }
 },
 "nbformat": 4,
 "nbformat_minor": 5
}
