{
 "cells": [
  {
   "cell_type": "markdown",
   "id": "436ce51b",
   "metadata": {},
   "source": [
    "# Hackerrank, word-order\n",
    "ref : https://www.hackerrank.com/challenges/word-order/problem?isFullScreen=true"
   ]
  },
  {
   "cell_type": "code",
   "execution_count": null,
   "id": "cbf70c44",
   "metadata": {},
   "outputs": [],
   "source": [
    "from collections import OrderedDict"
   ]
  },
  {
   "cell_type": "code",
   "execution_count": 317,
   "id": "dbc92c23",
   "metadata": {},
   "outputs": [],
   "source": [
    "ordered_dictionary = OrderedDict()\n",
    "N = int(input())\n",
    "for _ in range(N):\n",
    "    word = input()\n",
    "    if word in ordered_dictionary.keys():\n",
    "        ordered_dictionary[word] += 1\n",
    "    else:\n",
    "        ordered_dictionary[word] = 1\n",
    "        \n",
    "print(len(ordered_dictionary))\n",
    "for i,j in ordered_dictionary.items():\n",
    "    print(j,end=' ')"
   ]
  },
  {
   "cell_type": "code",
   "execution_count": null,
   "id": "100e4089",
   "metadata": {},
   "outputs": [],
   "source": []
  }
 ],
 "metadata": {
  "kernelspec": {
   "display_name": "Python 3 (ipykernel)",
   "language": "python",
   "name": "python3"
  },
  "language_info": {
   "codemirror_mode": {
    "name": "ipython",
    "version": 3
   },
   "file_extension": ".py",
   "mimetype": "text/x-python",
   "name": "python",
   "nbconvert_exporter": "python",
   "pygments_lexer": "ipython3",
   "version": "3.8.12"
  }
 },
 "nbformat": 4,
 "nbformat_minor": 5
}
