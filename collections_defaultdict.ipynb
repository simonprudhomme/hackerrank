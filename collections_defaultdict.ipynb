{
 "cells": [
  {
   "cell_type": "markdown",
   "id": "c105219a",
   "metadata": {},
   "source": [
    "# Hackerrank, defaultdict-tutorial\n",
    "ref : https://www.hackerrank.com/challenges/defaultdict-tutorial/problem?isFullScreen=true"
   ]
  },
  {
   "cell_type": "code",
   "execution_count": 1,
   "id": "7299529a",
   "metadata": {},
   "outputs": [],
   "source": [
    "from collections import defaultdict"
   ]
  },
  {
   "cell_type": "code",
   "execution_count": 41,
   "id": "dd0c9d06",
   "metadata": {},
   "outputs": [
    {
     "name": "stdout",
     "output_type": "stream",
     "text": [
      "5 2\n"
     ]
    }
   ],
   "source": [
    "n,m = list(map(int, input().split()))"
   ]
  },
  {
   "cell_type": "code",
   "execution_count": 42,
   "id": "72173426",
   "metadata": {},
   "outputs": [
    {
     "name": "stdout",
     "output_type": "stream",
     "text": [
      "a\n",
      "a\n",
      "b\n",
      "a\n",
      "b\n",
      "a\n",
      "1 2 4\n",
      "b\n",
      "3 5\n"
     ]
    }
   ],
   "source": [
    "a = defaultdict(list)\n",
    "for i in range(1,n+1):\n",
    "    a[input()].append(i)\n",
    "    \n",
    "for _ in range(m):\n",
    "    m = input()\n",
    "    if m in a:\n",
    "        print(*a[m])\n",
    "    else:\n",
    "        print(-1)"
   ]
  },
  {
   "cell_type": "code",
   "execution_count": null,
   "id": "c050a04a",
   "metadata": {},
   "outputs": [],
   "source": []
  }
 ],
 "metadata": {
  "kernelspec": {
   "display_name": "Python 3 (ipykernel)",
   "language": "python",
   "name": "python3"
  },
  "language_info": {
   "codemirror_mode": {
    "name": "ipython",
    "version": 3
   },
   "file_extension": ".py",
   "mimetype": "text/x-python",
   "name": "python",
   "nbconvert_exporter": "python",
   "pygments_lexer": "ipython3",
   "version": "3.8.12"
  }
 },
 "nbformat": 4,
 "nbformat_minor": 5
}
