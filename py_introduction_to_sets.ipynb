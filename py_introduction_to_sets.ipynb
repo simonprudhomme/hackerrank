{
 "cells": [
  {
   "cell_type": "markdown",
   "id": "f4ef2edc",
   "metadata": {},
   "source": [
    "# Hackerrank, py-introduction-to-sets\n",
    "ref : https://www.hackerrank.com/challenges/py-introduction-to-sets/problem?isFullScreen=true"
   ]
  },
  {
   "cell_type": "code",
   "execution_count": 149,
   "id": "13376ab7",
   "metadata": {},
   "outputs": [],
   "source": [
    "#n = 8\n",
    "#arr = 161 182 161 154 176 170 167 171 170 174"
   ]
  },
  {
   "cell_type": "code",
   "execution_count": 150,
   "id": "bfbe915b",
   "metadata": {},
   "outputs": [
    {
     "name": "stdout",
     "output_type": "stream",
     "text": [
      "8\n",
      "161 182 161 154 176 170 167 171 170 174\n",
      "169.375\n"
     ]
    }
   ],
   "source": [
    "def average(array):\n",
    "    result = sum(set(arr))/len(set(arr))\n",
    "    return result\n",
    "\n",
    "if __name__ == '__main__':\n",
    "    n = int(input())\n",
    "    arr = list(map(int, input().split()))\n",
    "    result = average(arr)\n",
    "    print(result)"
   ]
  },
  {
   "cell_type": "code",
   "execution_count": null,
   "id": "a8ca6679",
   "metadata": {},
   "outputs": [],
   "source": []
  }
 ],
 "metadata": {
  "kernelspec": {
   "display_name": "Python 3 (ipykernel)",
   "language": "python",
   "name": "python3"
  },
  "language_info": {
   "codemirror_mode": {
    "name": "ipython",
    "version": 3
   },
   "file_extension": ".py",
   "mimetype": "text/x-python",
   "name": "python",
   "nbconvert_exporter": "python",
   "pygments_lexer": "ipython3",
   "version": "3.8.12"
  }
 },
 "nbformat": 4,
 "nbformat_minor": 5
}
