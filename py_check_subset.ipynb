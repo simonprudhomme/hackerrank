{
 "cells": [
  {
   "cell_type": "markdown",
   "id": "436ce51b",
   "metadata": {},
   "source": [
    "# Hackerrank, py-check-subset\n",
    "ref : https://www.hackerrank.com/challenges/py-check-subset/problem?isFullScreen=true"
   ]
  },
  {
   "cell_type": "code",
   "execution_count": 13,
   "id": "0dba99f8",
   "metadata": {},
   "outputs": [
    {
     "name": "stdout",
     "output_type": "stream",
     "text": [
      "1\n",
      "1\n",
      "1 2 3 4 5\n",
      "1\n",
      "1 2 3 5 \n",
      "False\n"
     ]
    }
   ],
   "source": [
    "for test in range(int(input())):\n",
    "    a_ = input()\n",
    "    a = set(map(int,input().split()))\n",
    "    b_ = input()\n",
    "    b = set(map(int,input().split()))\n",
    "    if a.intersection(b) == a:\n",
    "        print(True)\n",
    "    else:\n",
    "        print(False)"
   ]
  },
  {
   "cell_type": "code",
   "execution_count": null,
   "id": "7515c1f4",
   "metadata": {},
   "outputs": [],
   "source": []
  }
 ],
 "metadata": {
  "kernelspec": {
   "display_name": "Python 3 (ipykernel)",
   "language": "python",
   "name": "python3"
  },
  "language_info": {
   "codemirror_mode": {
    "name": "ipython",
    "version": 3
   },
   "file_extension": ".py",
   "mimetype": "text/x-python",
   "name": "python",
   "nbconvert_exporter": "python",
   "pygments_lexer": "ipython3",
   "version": "3.7.10"
  }
 },
 "nbformat": 4,
 "nbformat_minor": 5
}
