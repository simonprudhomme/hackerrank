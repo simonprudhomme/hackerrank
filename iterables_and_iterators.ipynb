{
 "cells": [
  {
   "cell_type": "markdown",
   "id": "436ce51b",
   "metadata": {},
   "source": [
    "# Hackerrank, iterables-and-iterators\n",
    "ref : https://www.hackerrank.com/challenges/iterables-and-iterators/problem?isFullScreen=true"
   ]
  },
  {
   "cell_type": "code",
   "execution_count": 17,
   "id": "1331fede",
   "metadata": {},
   "outputs": [
    {
     "name": "stdout",
     "output_type": "stream",
     "text": [
      "4\n",
      "a a b c\n",
      "2\n",
      "0.833\n"
     ]
    }
   ],
   "source": [
    "from itertools import combinations\n",
    "N = int(input())\n",
    "letters = input().split()\n",
    "indices = int(input())\n",
    "\n",
    "a_count = 0\n",
    "total_count = 0\n",
    "for i in combinations(letters,indices):\n",
    "    total_count += 1\n",
    "    if 'a' in i:\n",
    "        a_count += 1\n",
    "        \n",
    "print(f'{a_count/total_count:.3f}')"
   ]
  },
  {
   "cell_type": "code",
   "execution_count": null,
   "id": "a2137efa",
   "metadata": {},
   "outputs": [],
   "source": []
  }
 ],
 "metadata": {
  "kernelspec": {
   "display_name": "Python 3 (ipykernel)",
   "language": "python",
   "name": "python3"
  },
  "language_info": {
   "codemirror_mode": {
    "name": "ipython",
    "version": 3
   },
   "file_extension": ".py",
   "mimetype": "text/x-python",
   "name": "python",
   "nbconvert_exporter": "python",
   "pygments_lexer": "ipython3",
   "version": "3.7.10"
  }
 },
 "nbformat": 4,
 "nbformat_minor": 5
}
