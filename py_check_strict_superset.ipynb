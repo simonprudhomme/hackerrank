{
 "cells": [
  {
   "cell_type": "markdown",
   "id": "436ce51b",
   "metadata": {},
   "source": [
    "# Hackerrank, py-check-strict-superset\n",
    "ref : https://www.hackerrank.com/challenges/py-check-strict-superset/problem?isFullScreen=true"
   ]
  },
  {
   "cell_type": "code",
   "execution_count": 45,
   "id": "3bca0b3b",
   "metadata": {},
   "outputs": [
    {
     "name": "stdout",
     "output_type": "stream",
     "text": [
      "1 2 3 4 5 6 7 8 9 10 11 12 23 45 84 78\n",
      "2\n",
      "1 2 3 4 5\n",
      "1 2 3 4 5\n",
      "True\n"
     ]
    }
   ],
   "source": [
    "s = set(map(int,input().split()))\n",
    "n = int(input())\n",
    "answer = True\n",
    "for _ in range(n):\n",
    "    s_ = set(map(int,input().split()))\n",
    "    if len(s_.difference(s))>0:\n",
    "        answer = False\n",
    "\n",
    "print(answer)"
   ]
  }
 ],
 "metadata": {
  "kernelspec": {
   "display_name": "Python 3 (ipykernel)",
   "language": "python",
   "name": "python3"
  },
  "language_info": {
   "codemirror_mode": {
    "name": "ipython",
    "version": 3
   },
   "file_extension": ".py",
   "mimetype": "text/x-python",
   "name": "python",
   "nbconvert_exporter": "python",
   "pygments_lexer": "ipython3",
   "version": "3.8.12"
  }
 },
 "nbformat": 4,
 "nbformat_minor": 5
}
