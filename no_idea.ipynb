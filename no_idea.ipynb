{
 "cells": [
  {
   "cell_type": "markdown",
   "id": "436ce51b",
   "metadata": {},
   "source": [
    "# Hackerrank, no-idea\n",
    "ref : https://www.hackerrank.com/challenges/no-idea/problem?isFullScreen=true"
   ]
  },
  {
   "cell_type": "code",
   "execution_count": 117,
   "id": "33fe7104",
   "metadata": {},
   "outputs": [],
   "source": [
    "n,m = list(map(int, input().split()))\n",
    "array = list(map(int,input().split()))\n",
    "A = set(map(int,input().split())) \n",
    "B = set(map(int,input().split()))"
   ]
  },
  {
   "cell_type": "code",
   "execution_count": 142,
   "id": "05de9e70",
   "metadata": {},
   "outputs": [
    {
     "name": "stdout",
     "output_type": "stream",
     "text": [
      "2\n"
     ]
    }
   ],
   "source": [
    "total = 0\n",
    "for _ in array:\n",
    "    if _ in A:\n",
    "        total+=1\n",
    "    if _ in B:\n",
    "        total-=1\n",
    "print(total)"
   ]
  }
 ],
 "metadata": {
  "kernelspec": {
   "display_name": "Python 3 (ipykernel)",
   "language": "python",
   "name": "python3"
  },
  "language_info": {
   "codemirror_mode": {
    "name": "ipython",
    "version": 3
   },
   "file_extension": ".py",
   "mimetype": "text/x-python",
   "name": "python",
   "nbconvert_exporter": "python",
   "pygments_lexer": "ipython3",
   "version": "3.7.10"
  }
 },
 "nbformat": 4,
 "nbformat_minor": 5
}
