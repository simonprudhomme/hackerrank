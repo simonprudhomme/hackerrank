{
 "cells": [
  {
   "cell_type": "markdown",
   "id": "436ce51b",
   "metadata": {},
   "source": [
    "# Hackerrank, python-time-delta\n",
    "ref : https://www.hackerrank.com/challenges/python-time-delta/problem"
   ]
  },
  {
   "cell_type": "code",
   "execution_count": 84,
   "id": "0a75d71d",
   "metadata": {},
   "outputs": [
    {
     "name": "stdout",
     "output_type": "stream",
     "text": [
      "88200\n"
     ]
    }
   ],
   "source": [
    "from datetime import datetime\n",
    "\n",
    "t1 = datetime.strptime('Sat 02 May 2015 19:54:36 +0530', '%a %d %b %Y %H:%M:%S %z')\n",
    "t2 = datetime.strptime('Fri 01 May 2015 13:54:36 -0000', '%a %d %b %Y %H:%M:%S %z')\n",
    "print(f'{abs((t1 - t2).total_seconds()):.0f}')"
   ]
  },
  {
   "cell_type": "code",
   "execution_count": null,
   "id": "4f01664a",
   "metadata": {},
   "outputs": [],
   "source": []
  }
 ],
 "metadata": {
  "kernelspec": {
   "display_name": "Python 3 (ipykernel)",
   "language": "python",
   "name": "python3"
  },
  "language_info": {
   "codemirror_mode": {
    "name": "ipython",
    "version": 3
   },
   "file_extension": ".py",
   "mimetype": "text/x-python",
   "name": "python",
   "nbconvert_exporter": "python",
   "pygments_lexer": "ipython3",
   "version": "3.7.10"
  }
 },
 "nbformat": 4,
 "nbformat_minor": 5
}
